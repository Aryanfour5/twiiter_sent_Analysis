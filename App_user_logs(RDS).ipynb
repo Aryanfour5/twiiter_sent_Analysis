{
 "cells": [
  {
   "cell_type": "code",
   "execution_count": 4,
   "id": "69ee47fb-840b-4844-84e8-5cf9fb2e6c6e",
   "metadata": {},
   "outputs": [
    {
     "name": "stdout",
     "output_type": "stream",
     "text": [
      "Requirement already satisfied: mysql-connector-python in c:\\users\\aryan\\appdata\\local\\programs\\python\\python311\\lib\\site-packages (9.3.0)\n"
     ]
    }
   ],
   "source": [
    "!pip install mysql-connector-python"
   ]
  },
  {
   "cell_type": "code",
   "execution_count": 9,
   "id": "4457bef4-9a1e-49e0-9d8d-224b86c6de4b",
   "metadata": {},
   "outputs": [
    {
     "name": "stdout",
     "output_type": "stream",
     "text": [
      "Requirement already satisfied: mysql-connector-python in c:\\users\\aryan\\appdata\\local\\programs\\python\\python311\\lib\\site-packages (9.3.0)\n"
     ]
    },
    {
     "ename": "ModuleNotFoundError",
     "evalue": "No module named 'mysql'",
     "output_type": "error",
     "traceback": [
      "\u001b[31m---------------------------------------------------------------------------\u001b[39m",
      "\u001b[31mModuleNotFoundError\u001b[39m                       Traceback (most recent call last)",
      "\u001b[36mCell\u001b[39m\u001b[36m \u001b[39m\u001b[32mIn[9]\u001b[39m\u001b[32m, line 2\u001b[39m\n\u001b[32m      1\u001b[39m get_ipython().system(\u001b[33m'\u001b[39m\u001b[33mpip install mysql-connector-python\u001b[39m\u001b[33m'\u001b[39m)\n\u001b[32m----> \u001b[39m\u001b[32m2\u001b[39m \u001b[38;5;28;01mimport\u001b[39;00m\u001b[38;5;250m \u001b[39m\u001b[34;01mmysql\u001b[39;00m\u001b[34;01m.\u001b[39;00m\u001b[34;01mconnector\u001b[39;00m\n",
      "\u001b[31mModuleNotFoundError\u001b[39m: No module named 'mysql'"
     ]
    }
   ],
   "source": [
    "!pip install mysql-connector-python\n",
    "import mysql.connector\n"
   ]
  },
  {
   "cell_type": "code",
   "execution_count": null,
   "id": "a18f4676-e357-4890-b58c-4eb5019e3390",
   "metadata": {},
   "outputs": [],
   "source": [
    "mydb = mysql.connector.connect(\n",
    "  host=\"finalprojectdb.c9es8gkmcrog.ap-south-1.rds.amazonaws.com\",\n",
    "  user=\"admin\",\n",
    "  password=\"pbl12121\",\n",
    "  port=3306\n",
    ")"
   ]
  },
  {
   "cell_type": "code",
   "execution_count": null,
   "id": "d15fc0e9-c8d9-47a3-9f9f-db4970b96733",
   "metadata": {},
   "outputs": [
    {
     "name": "stdout",
     "output_type": "stream",
     "text": [
      "<mysql.connector.connection_cext.CMySQLConnection object at 0x000002D3F4E0C790>\n",
      "('information_schema',)\n",
      "('mysql',)\n",
      "('performance_schema',)\n",
      "('sys',)\n",
      "('user_logs',)\n"
     ]
    }
   ],
   "source": [
    "print(mydb)\n",
    "mycursor = mydb.cursor(buffered=True)\n",
    "mycursor.execute(\"Show databases\")\n",
    "for x in mycursor:\n",
    "  print(x)"
   ]
  },
  {
   "cell_type": "code",
   "execution_count": null,
   "id": "968475bc-af22-40dd-9ca3-ff900528b059",
   "metadata": {},
   "outputs": [],
   "source": [
    "mycursor.execute(\"CREATE DATABASE user_logs\")"
   ]
  },
  {
   "cell_type": "code",
   "execution_count": null,
   "id": "c4b5f9d9-3b56-4263-9796-9ffd85dbee97",
   "metadata": {},
   "outputs": [],
   "source": [
    "mycursor.execute(\"USE user_logs\")"
   ]
  },
  {
   "cell_type": "code",
   "execution_count": null,
   "id": "ed848b80-5e39-45f9-aa91-9efb4f4d4a69",
   "metadata": {},
   "outputs": [],
   "source": [
    "mycursor.execute(\"\"\"CREATE TABLE APP_USER_LOGS(Id INT AUTO_INCREMENT PRIMARY KEY,\n",
    "                  Text TEXT NOT NULL,\n",
    "                  Predicted_Class INT NOT NULL,\n",
    "                  Negative FLOAT NOT NULL,\n",
    "                  Neutral FLOAT NOT NULL,\n",
    "                  Positive FLOAT NOT NULL,\n",
    "                  Timestamp TIMESTAMP DEFAULT CURRENT_TIMESTAMP)\"\"\")"
   ]
  },
  {
   "cell_type": "code",
   "execution_count": null,
   "id": "0eaaffbb-8c0b-4211-90c4-cbe0e45028ca",
   "metadata": {},
   "outputs": [
    {
     "name": "stdout",
     "output_type": "stream",
     "text": [
      "+------+-------------------------------------------+-------------------+------------+-----------+------------+---------------------+--------------+\n",
      "|   Id | Text                                      |   Predicted_Class |   Negative |   Neutral |   Positive | Timestamp           | ip_address   |\n",
      "|------+-------------------------------------------+-------------------+------------+-----------+------------+---------------------+--------------|\n",
      "|    1 | This is  a Great day!!! Good night all... |                 2 |  0.0100196 |  0.157111 |   0.832869 | 2025-01-11 19:05:24 | 172.31.30.19 |\n",
      "+------+-------------------------------------------+-------------------+------------+-----------+------------+---------------------+--------------+\n"
     ]
    }
   ],
   "source": [
    "mycursor.execute(\"select * FROM APP_USER_LOGS\")\n",
    "out = mycursor.fetchall()\n",
    "from tabulate import tabulate\n",
    "print(tabulate(out,headers = [i[0] for i in mycursor.description], tablefmt = 'psql'))"
   ]
  },
  {
   "cell_type": "code",
   "execution_count": null,
   "id": "04369eb8-759b-4be7-bc66-25bb2af2e4a4",
   "metadata": {},
   "outputs": [],
   "source": [
    "mycursor.execute(\"\"\"\n",
    "ALTER TABLE APP_USER_LOGS\n",
    "ADD COLUMN ip_address VARCHAR(45);\n",
    "\"\"\")"
   ]
  }
 ],
 "metadata": {
  "kernelspec": {
   "display_name": "venv",
   "language": "python",
   "name": "python3"
  },
  "language_info": {
   "codemirror_mode": {
    "name": "ipython",
    "version": 3
   },
   "file_extension": ".py",
   "mimetype": "text/x-python",
   "name": "python",
   "nbconvert_exporter": "python",
   "pygments_lexer": "ipython3",
   "version": "3.11.4"
  }
 },
 "nbformat": 4,
 "nbformat_minor": 5
}
